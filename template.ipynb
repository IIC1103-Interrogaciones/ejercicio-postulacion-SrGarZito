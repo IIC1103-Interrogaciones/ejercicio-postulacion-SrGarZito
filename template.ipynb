{
 "cells": [
  {
   "cell_type": "markdown",
   "metadata": {},
   "source": [
    "# Ejercicio de Postulación - Área de Interrogaciones"
   ]
  },
  {
   "cell_type": "markdown",
   "metadata": {},
   "source": [
    "Nombre: Esteban Castro\n",
    "\n",
    "Email: esteban.castro@uc.cl\n",
    "\n",
    "Telegram: Sr GarZito"
   ]
  },
  {
   "cell_type": "markdown",
   "metadata": {},
   "source": [
    "## Código solución (NO MODIFICAR)"
   ]
  },
  {
   "cell_type": "code",
   "execution_count": null,
   "metadata": {},
   "outputs": [],
   "source": [
    "#code.py\n",
    "def obtener_proximos(partidos, equipo):\n",
    "    equipos = []\n",
    "    ex_rivales = []\n",
    "    for partido in partidos:\n",
    "        if partido[0] not in equipos:\n",
    "            equipos.append(partido[0])\n",
    "        if partido[1] not in equipos:\n",
    "            equipos.append(partido[1])\n",
    "        if equipo == partido[0]:\n",
    "            ex_rivales.append(partido[1])\n",
    "        if equipo == partido[1]:\n",
    "            ex_rivales.append(partido[0])\n",
    "    pendientes = []\n",
    "    for rival in equipos:\n",
    "        if rival not in ex_rivales:\n",
    "            pendientes.append(rival)\n",
    "    return pendientes\n"
   ]
  },
  {
   "cell_type": "markdown",
   "metadata": {},
   "source": [
    "## Runner Personalizado (Opcional Modificar) "
   ]
  },
  {
   "cell_type": "markdown",
   "metadata": {},
   "source": [
    "Se tendra en consideración si logran hacer que los outputs sean iguales (solo modificando el runner) independiente del orden en que retornen los elementos en la lista."
   ]
  },
  {
   "cell_type": "code",
   "execution_count": null,
   "metadata": {},
   "outputs": [],
   "source": [
    "from functools import partial\n",
    "\n",
    "def obtener_proximos_modificada(func_original, partidos, equipo):\n",
    "    resultado = func_original(partidos, equipo)\n",
    "    # Cambiar Comportamiento de la función original (opcional)\n",
    "    if equipo in resultado:\n",
    "        resultado.remove(equipo)\n",
    "    return resultado\n",
    "\n",
    "# Con esto reescribimos la función original para capturar el capturar resultado del alumno y modificarlo si es necesario\n",
    "obtener_proximos = partial(obtener_proximos_modificada, obtener_proximos)\n"
   ]
  },
  {
   "cell_type": "markdown",
   "metadata": {},
   "source": [
    "## Enunciado"
   ]
  },
  {
   "cell_type": "markdown",
   "metadata": {},
   "source": [
    "## 🏆 **DCCampeonato de fútbol** 🏆\n",
    "\n",
    "¡Hoy esta ocurriendo el evento más importante para la fanáticada del fútbol **(y la programación)** : el DCCampeonato ⚽!\n",
    "\n",
    "Durante la primera parte de este amado evento no hubo ningún problema, sin embargo, durante el descanso, el encargado de emparejar los partidos le dio un ataque de... ¿sueño? \n",
    "\n",
    "A pesar de los esfuerzos, no hubo manera de despertar a este trabajador y se tuvo que atrasar temporalmente este evento hasta hallar una solución.\n",
    "\n",
    "\n",
    "***Sin embargo, no todo está perdido...*** \n",
    "\n",
    "El CEO de la organización decidió llamar a su más valioso compañero de trabajo, conocido por sus grandes hazañas en el ámbito de la programación y conocido mundialmente por sus grandes capacidades... ¡Ese magnífico trabajador eres tú!\n",
    "\n",
    "**¡Eres la única persona capaz de arreglar este inconveniente y poner feliz a toda la fanáticada del DCCampeonato! ¡Contamos contigo!**\n",
    "\n",
    "### **Objetivo**\n",
    "\n",
    "Se te ha encomendado realizar la función `obtener_proximos(partidos, equipo)`, encargada de obtener todos los próximos partidos de un equipo en particular.\n",
    "Sin embargo, el DCCampeonato de fútbol es uno con reglas muy rigurosas, puesto que **todos deben jugar contra todos**... ¡Sin excepción alguna!\n",
    "\n",
    "### **Ejemplo**\n",
    "\n",
    "#### **Input**"
   ]
  },
  {
   "cell_type": "code",
   "execution_count": null,
   "metadata": {},
   "outputs": [],
   "source": [
    "partidos = [[\"Super Mario Brothers\", \"Team Sonic\"],\n",
    "            [\"Kong Family\", \"The Koopa Troop\"]]\n",
    "\n",
    "equipo = \"Team Sonic\""
   ]
  },
  {
   "cell_type": "markdown",
   "metadata": {},
   "source": [
    "#### **Output**"
   ]
  },
  {
   "cell_type": "code",
   "execution_count": null,
   "metadata": {},
   "outputs": [],
   "source": [
    "['Kong Family', 'The Koopa Troop']"
   ]
  },
  {
   "cell_type": "markdown",
   "metadata": {},
   "source": [
    "#### **Explicación**\n",
    "\n",
    "En el ***Input*** podemos observar todos los partidos que han ocurrido hasta el momento, en este caso, queremos saber todos los partidos pendientes del `\"Team Sonic\"`.\n",
    "\n",
    "Sabemos que sólo se ha enfrentado al equipo de `\"Super Mario Brothers\"`, por ende, en nuestro ***Output*** deben salir los equipos que aún no enfrenta el `\"Team Sonic\"`, los cuáles serían: `\"Kong Family\"` y `\"The Koopa Troop\"`."
   ]
  },
  {
   "cell_type": "markdown",
   "metadata": {},
   "source": [
    "## Testcases"
   ]
  },
  {
   "cell_type": "markdown",
   "metadata": {},
   "source": [
    "### Testcase 1"
   ]
  },
  {
   "cell_type": "markdown",
   "metadata": {},
   "source": [
    "#### Input"
   ]
  },
  {
   "cell_type": "code",
   "execution_count": null,
   "metadata": {},
   "outputs": [],
   "source": [
    "partidos = [[\"Chile\", \"Argentina\"],\n",
    "            [\"Colombia\", \"Peru\"],\n",
    "            [\"Chile\", \"Colombia\"],\n",
    "            [\"Argentina\", \"Colombia\"]]\n",
    "\n",
    "equipo = \"Peru\""
   ]
  },
  {
   "cell_type": "markdown",
   "metadata": {},
   "source": [
    "#### Output"
   ]
  },
  {
   "cell_type": "code",
   "execution_count": null,
   "metadata": {},
   "outputs": [],
   "source": [
    "['Chile', 'Argentina']"
   ]
  },
  {
   "cell_type": "markdown",
   "metadata": {},
   "source": [
    "### Testcase 2"
   ]
  },
  {
   "cell_type": "markdown",
   "metadata": {},
   "source": [
    "#### Input"
   ]
  },
  {
   "cell_type": "code",
   "execution_count": null,
   "metadata": {},
   "outputs": [],
   "source": [
    "partidos = [[\"Kanto\", \"Johto\"],\n",
    "            [\"Hoenn\", \"Sinnoh\"],\n",
    "            [\"Teselia\", \"Kalos\"],\n",
    "            [\"Alola\", \"Galar\"]]\n",
    "\n",
    "equipo = \"Paldea\""
   ]
  },
  {
   "cell_type": "markdown",
   "metadata": {},
   "source": [
    "#### Output"
   ]
  },
  {
   "cell_type": "code",
   "execution_count": null,
   "metadata": {},
   "outputs": [],
   "source": [
    "['Kanto', 'Johto', 'Hoenn', 'Sinnoh', 'Teselia', 'Kalos', 'Alola', 'Galar']"
   ]
  },
  {
   "cell_type": "markdown",
   "metadata": {},
   "source": [
    "### Testcase 3"
   ]
  },
  {
   "cell_type": "markdown",
   "metadata": {},
   "source": [
    "#### Input"
   ]
  },
  {
   "cell_type": "code",
   "execution_count": null,
   "metadata": {},
   "outputs": [],
   "source": [
    "partidos = [[\"SuperOcho\", \"Chocman\"],\n",
    "            [\"SuperOcho\", \"Trencito\"],\n",
    "            [\"Chocman\", \"Trencito\"]]\n",
    "\n",
    "equipo = \"Chocman\""
   ]
  },
  {
   "cell_type": "markdown",
   "metadata": {},
   "source": [
    "#### Output"
   ]
  },
  {
   "cell_type": "code",
   "execution_count": null,
   "metadata": {},
   "outputs": [],
   "source": [
    "[]"
   ]
  }
 ],
 "metadata": {
  "kernelspec": {
   "display_name": "Python 3",
   "language": "python",
   "name": "python3"
  },
  "language_info": {
   "codemirror_mode": {
    "name": "ipython",
    "version": 3
   },
   "file_extension": ".py",
   "mimetype": "text/x-python",
   "name": "python",
   "nbconvert_exporter": "python",
   "pygments_lexer": "ipython3",
   "version": "3.11.9"
  }
 },
 "nbformat": 4,
 "nbformat_minor": 4
}
